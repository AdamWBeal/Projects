{
 "cells": [
  {
   "cell_type": "markdown",
   "metadata": {},
   "source": [
    "# Centers for Disease Control: Multiple Causes of Death"
   ]
  },
  {
   "cell_type": "markdown",
   "metadata": {},
   "source": [
    "## Cluster Analysis"
   ]
  },
  {
   "cell_type": "code",
   "execution_count": 1,
   "metadata": {
    "collapsed": true
   },
   "outputs": [],
   "source": [
    "import pandas as pd\n",
    "import numpy as np\n",
    "\n",
    "from scipy.spatial import distance\n",
    "from scipy.cluster.hierarchy import dendrogram, linkage\n",
    "\n",
    "import matplotlib.pyplot as plt\n",
    "%matplotlib inline"
   ]
  },
  {
   "cell_type": "markdown",
   "metadata": {},
   "source": [
    "&nbsp;&nbsp;&nbsp;&nbsp;&nbsp; Written hierarchical clustering tutorial [here](https://joernhees.de/blog/2015/08/26/scipy-hierarchical-clustering-and-dendrogram-tutorial/); video tutorial [here](https://www.youtube.com/watch?v=EQZaSuK-PHs)."
   ]
  },
  {
   "cell_type": "code",
   "execution_count": null,
   "metadata": {
    "collapsed": false
   },
   "outputs": [],
   "source": [
    "X = pd.read_csv('https://s3.amazonaws.com/cdc-mortality/mort_featureset.csv')\n",
    "\n",
    "len(X)"
   ]
  },
  {
   "cell_type": "code",
   "execution_count": 4,
   "metadata": {
    "collapsed": false
   },
   "outputs": [
    {
     "data": {
      "text/html": [
       "<div>\n",
       "<table border=\"1\" class=\"dataframe\">\n",
       "  <thead>\n",
       "    <tr style=\"text-align: right;\">\n",
       "      <th></th>\n",
       "      <th>sex</th>\n",
       "      <th>age</th>\n",
       "      <th>foreign</th>\n",
       "      <th>interstate_nonres</th>\n",
       "      <th>intrastate_nonres</th>\n",
       "      <th>resident</th>\n",
       "      <th>educ_1.0</th>\n",
       "      <th>educ_2.0</th>\n",
       "      <th>educ_3.0</th>\n",
       "      <th>educ_4.0</th>\n",
       "      <th>...</th>\n",
       "      <th>cause_37</th>\n",
       "      <th>cause_38</th>\n",
       "      <th>cause_39</th>\n",
       "      <th>cause_40</th>\n",
       "      <th>cause_41</th>\n",
       "      <th>cause_42</th>\n",
       "      <th>amer_indian</th>\n",
       "      <th>asian/PI</th>\n",
       "      <th>black</th>\n",
       "      <th>white</th>\n",
       "    </tr>\n",
       "  </thead>\n",
       "  <tbody>\n",
       "    <tr>\n",
       "      <th>0</th>\n",
       "      <td>1.0</td>\n",
       "      <td>0.721739</td>\n",
       "      <td>0.0</td>\n",
       "      <td>0.0</td>\n",
       "      <td>0.0</td>\n",
       "      <td>1.0</td>\n",
       "      <td>0.0</td>\n",
       "      <td>0.0</td>\n",
       "      <td>1.0</td>\n",
       "      <td>0.0</td>\n",
       "      <td>...</td>\n",
       "      <td>0.0</td>\n",
       "      <td>0.0</td>\n",
       "      <td>0.0</td>\n",
       "      <td>0.0</td>\n",
       "      <td>0.0</td>\n",
       "      <td>0.0</td>\n",
       "      <td>0.0</td>\n",
       "      <td>0.0</td>\n",
       "      <td>0.0</td>\n",
       "      <td>1.0</td>\n",
       "    </tr>\n",
       "    <tr>\n",
       "      <th>1</th>\n",
       "      <td>1.0</td>\n",
       "      <td>0.600000</td>\n",
       "      <td>0.0</td>\n",
       "      <td>0.0</td>\n",
       "      <td>0.0</td>\n",
       "      <td>1.0</td>\n",
       "      <td>0.0</td>\n",
       "      <td>0.0</td>\n",
       "      <td>0.0</td>\n",
       "      <td>0.0</td>\n",
       "      <td>...</td>\n",
       "      <td>0.0</td>\n",
       "      <td>0.0</td>\n",
       "      <td>0.0</td>\n",
       "      <td>0.0</td>\n",
       "      <td>0.0</td>\n",
       "      <td>0.0</td>\n",
       "      <td>0.0</td>\n",
       "      <td>0.0</td>\n",
       "      <td>0.0</td>\n",
       "      <td>1.0</td>\n",
       "    </tr>\n",
       "  </tbody>\n",
       "</table>\n",
       "<p>2 rows × 91 columns</p>\n",
       "</div>"
      ],
      "text/plain": [
       "   sex       age  foreign  interstate_nonres  intrastate_nonres  resident  \\\n",
       "0  1.0  0.721739      0.0                0.0                0.0       1.0   \n",
       "1  1.0  0.600000      0.0                0.0                0.0       1.0   \n",
       "\n",
       "   educ_1.0  educ_2.0  educ_3.0  educ_4.0  ...    cause_37  cause_38  \\\n",
       "0       0.0       0.0       1.0       0.0  ...         0.0       0.0   \n",
       "1       0.0       0.0       0.0       0.0  ...         0.0       0.0   \n",
       "\n",
       "   cause_39  cause_40  cause_41  cause_42  amer_indian  asian/PI  black  white  \n",
       "0       0.0       0.0       0.0       0.0          0.0       0.0    0.0    1.0  \n",
       "1       0.0       0.0       0.0       0.0          0.0       0.0    0.0    1.0  \n",
       "\n",
       "[2 rows x 91 columns]"
      ]
     },
     "execution_count": 4,
     "metadata": {},
     "output_type": "execute_result"
    }
   ],
   "source": [
    "X.head(2)"
   ]
  },
  {
   "cell_type": "code",
   "execution_count": 5,
   "metadata": {
    "collapsed": false
   },
   "outputs": [
    {
     "data": {
      "text/plain": [
       "Index([u'sex', u'age', u'foreign', u'interstate_nonres', u'intrastate_nonres',\n",
       "       u'resident', u'educ_1.0', u'educ_2.0', u'educ_3.0', u'educ_4.0',\n",
       "       u'educ_5.0', u'educ_6.0', u'educ_7.0', u'educ_8.0', u'educ_9.0',\n",
       "       u'April', u'August', u'December', u'February', u'January', u'July',\n",
       "       u'June', u'March', u'May', u'November', u'October', u'September',\n",
       "       u'at_home', u'dead_on_arrival', u'hospice', u'inpatient',\n",
       "       u'nursing_home', u'other_location', u'outpatient_or_ER', u'divorced',\n",
       "       u'married', u'single_nevermarried', u'widowed', u'Friday', u'Monday',\n",
       "       u'Saturday', u'Sunday', u'Thursday', u'Tuesday', u'Wednesday',\n",
       "       u'accident', u'homicide', u'natural', u'suicide', u'cause_1',\n",
       "       u'cause_2', u'cause_3', u'cause_5', u'cause_6', u'cause_7', u'cause_8',\n",
       "       u'cause_9', u'cause_10', u'cause_11', u'cause_12', u'cause_13',\n",
       "       u'cause_14', u'cause_15', u'cause_16', u'cause_17', u'cause_20',\n",
       "       u'cause_21', u'cause_22', u'cause_23', u'cause_24', u'cause_25',\n",
       "       u'cause_26', u'cause_27', u'cause_28', u'cause_29', u'cause_30',\n",
       "       u'cause_31', u'cause_32', u'cause_33', u'cause_34', u'cause_36',\n",
       "       u'cause_37', u'cause_38', u'cause_39', u'cause_40', u'cause_41',\n",
       "       u'cause_42', u'amer_indian', u'asian/PI', u'black', u'white'],\n",
       "      dtype='object')"
      ]
     },
     "execution_count": 5,
     "metadata": {},
     "output_type": "execute_result"
    }
   ],
   "source": [
    "X.columns"
   ]
  },
  {
   "cell_type": "code",
   "execution_count": 7,
   "metadata": {
    "collapsed": false
   },
   "outputs": [],
   "source": [
    "Xasianmale = X[(X['asian/PI'] == 1) & (X['sex'] == 1)]"
   ]
  },
  {
   "cell_type": "code",
   "execution_count": 8,
   "metadata": {
    "collapsed": false
   },
   "outputs": [
    {
     "data": {
      "text/plain": [
       "16711"
      ]
     },
     "execution_count": 8,
     "metadata": {},
     "output_type": "execute_result"
    }
   ],
   "source": [
    "len(Xasianmale)"
   ]
  },
  {
   "cell_type": "code",
   "execution_count": null,
   "metadata": {
    "collapsed": false
   },
   "outputs": [],
   "source": [
    "## generate the linkage matrix\n",
    "## Z = linkage(Xasianmale, 'ward')"
   ]
  },
  {
   "cell_type": "code",
   "execution_count": null,
   "metadata": {
    "collapsed": true
   },
   "outputs": [],
   "source": [
    "c, coph_dists = cophenet(Z, pdist(Xasianmale))\n",
    "c"
   ]
  },
  {
   "cell_type": "code",
   "execution_count": null,
   "metadata": {
    "collapsed": true
   },
   "outputs": [],
   "source": [
    "# start = datetime.datetime.now()\n",
    "# print start\n",
    "\n",
    "# count = 0\n",
    "# ksilhouette = []\n",
    "# for i in range(2, 500):\n",
    "#     kmeans = KMeans(n_clusters=i, random_state = 42)\n",
    "#     kmeans.fit(X)\n",
    "#     ksilhouette.append((i, silhouette_score(X, kmeans.labels_, metric='euclidean')))\n",
    "#     if count%25 == 0:\n",
    "#         print count\n",
    "#     count += 1\n",
    "    \n",
    "# print (datetime.datetime.now() - start)"
   ]
  }
 ],
 "metadata": {
  "kernelspec": {
   "display_name": "Python 2",
   "language": "python",
   "name": "python2"
  },
  "language_info": {
   "codemirror_mode": {
    "name": "ipython",
    "version": 2
   },
   "file_extension": ".py",
   "mimetype": "text/x-python",
   "name": "python",
   "nbconvert_exporter": "python",
   "pygments_lexer": "ipython2",
   "version": "2.7.12"
  }
 },
 "nbformat": 4,
 "nbformat_minor": 0
}
